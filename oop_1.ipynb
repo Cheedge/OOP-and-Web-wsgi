{
 "cells": [
  {
   "cell_type": "markdown",
   "metadata": {},
   "source": [
    "# Decorator\n",
    "follow The Open/Closed Principle, (OCP)"
   ]
  },
  {
   "cell_type": "code",
   "execution_count": 38,
   "metadata": {},
   "outputs": [
    {
     "name": "stdout",
     "output_type": "stream",
     "text": [
      "f1.__name__='f1', val=1\n",
      "f2.__name__='f2', val=2\n"
     ]
    },
    {
     "data": {
      "text/plain": [
       "('1', '2')"
      ]
     },
     "execution_count": 38,
     "metadata": {},
     "output_type": "execute_result"
    }
   ],
   "source": [
    "def f1(val: int)-> str:\n",
    "    print(f'{f1.__name__=}, {val=}')\n",
    "    return str(val)\n",
    "def f2(val: int)-> str:\n",
    "    print(f'{f2.__name__=}, {val=}')\n",
    "    return str(val)\n",
    "f1(1), f2(2)"
   ]
  },
  {
   "cell_type": "markdown",
   "metadata": {},
   "source": [
    "I want add a functionality in both `f1` and `f2`, there are two ways:\n",
    "+ write a func and add this func to both of them\n",
    "+ write a func which wrapped both `f1` and `f2`"
   ]
  },
  {
   "cell_type": "code",
   "execution_count": 42,
   "metadata": {},
   "outputs": [
    {
     "name": "stdout",
     "output_type": "stream",
     "text": [
      "f1.__name__='f1' and \"val=1\" is in the value list\n",
      "f2.__name__='f2' and \"val=21\" is NOT in the value list\n"
     ]
    },
    {
     "data": {
      "text/plain": [
       "('1 in f1 is same as \"val=1\" is in the value list',\n",
       " '21 in f2 is same as \"val=21\" is NOT in the value list')"
      ]
     },
     "execution_count": 42,
     "metadata": {},
     "output_type": "execute_result"
    }
   ],
   "source": [
    "# method 1:\n",
    "def val_func(val: int) -> str:\n",
    "    val_list = [i for i in range(10)]\n",
    "    if val in val_list:\n",
    "        return f'\\\"{val=}\\\" is in the value list'\n",
    "    else:\n",
    "        return f'\\\"{val=}\\\" is NOT in the value list'\n",
    "\n",
    "def f1(val: int)-> str:\n",
    "    c = val_func(val)\n",
    "    print(f'{f1.__name__=} and {c}')\n",
    "    return str(val) + ' in f1 is same as ' + c\n",
    "\n",
    "def f2(val: int)-> str:\n",
    "    c = val_func(val)\n",
    "    print(f'{f2.__name__=} and {c}')\n",
    "    return str(val) + ' in f2 is same as ' + c\n",
    "\n",
    "f1(1), f2(21)"
   ]
  },
  {
   "cell_type": "code",
   "execution_count": 44,
   "metadata": {},
   "outputs": [
    {
     "name": "stdout",
     "output_type": "stream",
     "text": [
      "f1.__name__='val_func'\n",
      "f2.__name__='val_func'\n"
     ]
    },
    {
     "data": {
      "text/plain": [
       "('1 in f1 is same as \"val=1\" is in the value list',\n",
       " '21 in f2 is same as \"val=21\" is NOT in the value list')"
      ]
     },
     "execution_count": 44,
     "metadata": {},
     "output_type": "execute_result"
    }
   ],
   "source": [
    "# method 2:\n",
    "def outside_func(func):\n",
    "    def val_func(val: int) -> str:\n",
    "        fv = func(val)\n",
    "        val_list = [i for i in range(10)]\n",
    "        if val in val_list:\n",
    "            return f'{fv} in {func.__name__} is same as \\\"{val=}\\\" is in the value list'\n",
    "        else:\n",
    "            return f'{fv} in {func.__name__} is same as \\\"{val=}\\\" is NOT in the value list'\n",
    "    return val_func\n",
    "\n",
    "@outside_func\n",
    "def f1(val: int)-> str:\n",
    "    print(f'{f1.__name__=}')\n",
    "    return str(val)\n",
    "@outside_func\n",
    "def f2(val: int)-> str:\n",
    "    print(f'{f2.__name__=}')\n",
    "    return str(val)\n",
    "f1(1), f2(21)"
   ]
  },
  {
   "cell_type": "markdown",
   "metadata": {},
   "source": [
    "so method 2 is good, as instead change `f1` and `f2`, it make a new wrap func to realize the new functionality.\n",
    "\n",
    "this follows the Open/Closed Principle."
   ]
  },
  {
   "cell_type": "markdown",
   "metadata": {},
   "source": [
    "## How decorator works?"
   ]
  },
  {
   "cell_type": "markdown",
   "metadata": {},
   "source": [
    "1. excute decorator: `@outside func`: pass `f1` as a param to `outside func(func)`\n",
    "2. pass `f1` params `val` to `inside func`\n",
    "    + note: `inside func` should include passed in param `func`\n",
    "3. when invoke func `f1()`, run `inside func`\n",
    "4. return `inside func`"
   ]
  },
  {
   "cell_type": "markdown",
   "metadata": {},
   "source": [
    "refer: https://haozhang95.github.io/Python24/5-9/15day/02-%E8%A3%85%E9%A5%B0%E5%99%A8.html"
   ]
  }
 ],
 "metadata": {
  "interpreter": {
   "hash": "21564ee016a1497b66ed59b351142cb940e143008b927ddb5402a7b4bc25ee6d"
  },
  "kernelspec": {
   "display_name": "Python 3.10.0 64-bit ('3.10.0': pyenv)",
   "name": "python3"
  },
  "language_info": {
   "codemirror_mode": {
    "name": "ipython",
    "version": 3
   },
   "file_extension": ".py",
   "mimetype": "text/x-python",
   "name": "python",
   "nbconvert_exporter": "python",
   "pygments_lexer": "ipython3",
   "version": "3.10.0"
  },
  "orig_nbformat": 4
 },
 "nbformat": 4,
 "nbformat_minor": 2
}

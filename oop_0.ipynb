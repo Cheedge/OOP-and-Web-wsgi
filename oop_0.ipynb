{
 "cells": [
  {
   "cell_type": "markdown",
   "metadata": {},
   "source": [
    "# class\n",
    "0. Class:\n",
    "\t+ variable\n",
    "\t\t- public: x\n",
    "\t\t- protect: _x (cannot import)\n",
    "\t\t- private: __x (child class cannot access, iherit)\n",
    "\t+ attribute\n",
    "\t\t- instance attribute: access by instance name(keep one copy in every instance)\n",
    "\t\t- class attribute: access by class name(keep one copy in one class)\n",
    "\t+ method\n",
    "\t\t- instance method(param: `self`. instance invoke, give val to self)\n",
    "\t\t- class method(param: `cls`. class invoke, give val to cls)\n",
    "\t\t- static method(no param. class invoke)\n",
    "\t\t- dender method(\n",
    "\t\t\t`__slot__`: set bound attribute, means cannot assign attribute to class outside the class.\n",
    "\t\t\t`__doc__`, `__init__`)\n",
    "\t+ property\n",
    "\t\t- decorator\n",
    "\t\t\t* `@property`\n",
    "\t\t\t* `@property`, `@propery.setter`, `@property.deleter`\n",
    "\t\t- property object\n",
    "\t\t\t* `OBJ = property(get_func, set_func, del_func, 'description for __doc__'`)\n",
    "1. inheritance:\n",
    "\t* (`Class_name.__init__(self, val)`)\n",
    "\t* (`super().__init__(self, val)`: only run `Parent` class once)\n",
    "\t+ single inheritance: `class GrandChild(Child1, Child2)`\n",
    "\t\t- use `super()` method can only pass params which `Parent` class have.\n",
    "\t+ multiple inheritance: `class GrandChild(Child1, Child2)`:\n",
    "\t\t- use `super()` method should pass all `Parent` class(here is `Child1`, `Child2`) params. so normally up class always use `*args, **kwargs`\n",
    "\n",
    "2. closure: (notice decorator)\n",
    "\n",
    "3. poly-morphism: (override)"
   ]
  },
  {
   "cell_type": "markdown",
   "metadata": {},
   "source": [
    "## property exampls\n",
    "+ property\n",
    "    - decorator\n",
    "        * `@property`\n",
    "        * `@property`, `@propery.setter`, `@property.deleter`\n",
    "    - property object\n",
    "        * `OBJ = property(get_func, set_func, del_func, 'description for __doc__'`)"
   ]
  },
  {
   "cell_type": "markdown",
   "metadata": {},
   "source": [
    "use `@property` as decorator"
   ]
  },
  {
   "cell_type": "code",
   "execution_count": 8,
   "metadata": {},
   "outputs": [
    {
     "name": "stdout",
     "output_type": "stream",
     "text": [
      "John\n"
     ]
    }
   ],
   "source": [
    "class Test(object):\n",
    "    def __init__(self, name: str) -> None:\n",
    "        self.__name = name\n",
    "\n",
    "\n",
    "    @property\n",
    "    def name(self)->None:\n",
    "        return self.__name\n",
    "\n",
    "t = Test('John')\n",
    "print(t.name)"
   ]
  },
  {
   "cell_type": "markdown",
   "metadata": {},
   "source": [
    "use `@property`, `@name.setter`, `@name.deleter`"
   ]
  },
  {
   "cell_type": "code",
   "execution_count": 12,
   "metadata": {},
   "outputs": [
    {
     "name": "stdout",
     "output_type": "stream",
     "text": [
      "John Smith\n"
     ]
    }
   ],
   "source": [
    "class Test(object):\n",
    "    def __init__(self, name: str) -> None:\n",
    "        self.__name = name\n",
    "\n",
    "    @property\n",
    "    def name(self)-> str:\n",
    "        return self.__lname + ' ' + self.__name\n",
    "\n",
    "    @name.setter\n",
    "    def name(self, lname: str)->None:\n",
    "        self.__lname = lname\n",
    "\n",
    "t = Test('Smith')\n",
    "t.name = 'John'\n",
    "print(t.name)"
   ]
  },
  {
   "cell_type": "markdown",
   "metadata": {},
   "source": [
    "use `OBJ = property(getter, setter, delelter, __doc__)`"
   ]
  },
  {
   "cell_type": "code",
   "execution_count": 14,
   "metadata": {},
   "outputs": [
    {
     "name": "stdout",
     "output_type": "stream",
     "text": [
      "John Smith\n"
     ]
    }
   ],
   "source": [
    "class Test(object):\n",
    "    def __init__(self, name: str) -> None:\n",
    "        self.__name = name\n",
    "\n",
    "    def get_name(self) -> str:\n",
    "        return self.__lname + ' ' + self.__name\n",
    "\n",
    "    def set_name(self, lname: str) -> str:\n",
    "        self.__lname = lname\n",
    "\n",
    "    def del_name(self) -> None:\n",
    "        return ''\n",
    "\n",
    "    TNAME = property(get_name, set_name, del_name, 'name example')\n",
    "\n",
    "t = Test('Smith')\n",
    "t.TNAME = 'John'\n",
    "print(t.TNAME)"
   ]
  },
  {
   "cell_type": "markdown",
   "metadata": {},
   "source": [
    "## inheritance examples\n",
    "### normally use:\n",
    "* (`Class_name.__init__(self, val)`)\n",
    "* (`super().__init__(self, val)`: only run `Parent` class once)\n",
    "\n",
    "### inheritance from single class or multiple classes\n",
    "+ single inheritance: `class GrandChild(Child1, Child2)`\n",
    "\t- use `super()` method can only pass params which `Parent` class have.\n",
    "+ multiple inheritance: `class GrandChild(Child1, Child2)`:\n",
    "\t- use `super()` method should pass all `Parent` class(here is `Child1`, `Child2`) params. so normally up class always use `*args, **kwargs`\n"
   ]
  },
  {
   "cell_type": "markdown",
   "metadata": {},
   "source": [
    "1. 单独调用父类的方法"
   ]
  },
  {
   "cell_type": "code",
   "execution_count": 17,
   "metadata": {},
   "outputs": [
    {
     "name": "stdout",
     "output_type": "stream",
     "text": [
      "******多继承使用类名.__init__ 发生的状态******\n",
      "Grandson的init开始被调用\n",
      "Son1的init开始被调用\n",
      "parent的init开始被调用\n",
      "parent的init结束被调用\n",
      "Son1的init结束被调用\n",
      "Son2的init开始被调用\n",
      "parent的init开始被调用\n",
      "parent的init结束被调用\n",
      "Son2的init结束被调用\n",
      "Grandson的init结束被调用\n",
      "姓名： grandson\n",
      "年龄： 12\n",
      "性别： 男\n",
      "******多继承使用类名.__init__ 发生的状态******\n",
      "\n"
     ]
    }
   ],
   "source": [
    "# coding=utf-8\n",
    "\n",
    "print(\"******多继承使用类名.__init__ 发生的状态******\")\n",
    "class Parent(object):\n",
    "    def __init__(self, name):\n",
    "        print('parent的init开始被调用')\n",
    "        self.name = name\n",
    "        print('parent的init结束被调用')\n",
    "\n",
    "class Son1(Parent):\n",
    "    def __init__(self, name, age):\n",
    "        print('Son1的init开始被调用')\n",
    "        self.age = age\n",
    "        Parent.__init__(self, name)\n",
    "        print('Son1的init结束被调用')\n",
    "\n",
    "class Son2(Parent):\n",
    "    def __init__(self, name, gender):\n",
    "        print('Son2的init开始被调用')\n",
    "        self.gender = gender\n",
    "        Parent.__init__(self, name)\n",
    "        print('Son2的init结束被调用')\n",
    "\n",
    "class Grandson(Son1, Son2):\n",
    "    def __init__(self, name, age, gender):\n",
    "        print('Grandson的init开始被调用')\n",
    "        Son1.__init__(self, name, age)  # 单独调用父类的初始化方法\n",
    "        Son2.__init__(self, name, gender)\n",
    "        print('Grandson的init结束被调用')\n",
    "\n",
    "gs = Grandson('grandson', 12, '男')\n",
    "print('姓名：', gs.name)\n",
    "print('年龄：', gs.age)\n",
    "print('性别：', gs.gender)\n",
    "\n",
    "print(\"******多继承使用类名.__init__ 发生的状态******\\n\")"
   ]
  },
  {
   "cell_type": "markdown",
   "metadata": {},
   "source": [
    "2. 多继承中super调用被重写的父类方法"
   ]
  },
  {
   "cell_type": "code",
   "execution_count": 19,
   "metadata": {},
   "outputs": [
    {
     "name": "stdout",
     "output_type": "stream",
     "text": [
      "******多继承使用super().__init__ 发生的状态******\n",
      "(<class '__main__.Grandson'>, <class '__main__.Son1'>, <class '__main__.Son2'>, <class '__main__.Parent'>, <class 'object'>)\n",
      "Grandson的init开始被调用\n",
      "Son1的init开始被调用\n",
      "Son2的init开始被调用\n",
      "parent的init开始被调用\n",
      "parent的init结束被调用\n",
      "Son2的init结束被调用\n",
      "Son1的init结束被调用\n",
      "Grandson的init结束被调用\n",
      "姓名： grandson\n",
      "年龄： 12\n",
      "性别： 男\n",
      "******多继承使用super().__init__ 发生的状态******\n",
      "\n"
     ]
    }
   ],
   "source": [
    "print(\"******多继承使用super().__init__ 发生的状态******\")\n",
    "class Parent(object):\n",
    "    def __init__(self, name, *args, **kwargs):  # 为避免多继承报错，使用不定长参数，接受参数\n",
    "        print('parent的init开始被调用')\n",
    "        self.name = name\n",
    "        print('parent的init结束被调用')\n",
    "\n",
    "class Son1(Parent):\n",
    "    def __init__(self, name, age, *args, **kwargs):  # 为避免多继承报错，使用不定长参数，接受参数\n",
    "        print('Son1的init开始被调用')\n",
    "        self.age = age\n",
    "        super().__init__(name, *args, **kwargs)  # 为避免多继承报错，使用不定长参数，接受参数\n",
    "        print('Son1的init结束被调用')\n",
    "\n",
    "class Son2(Parent):\n",
    "    def __init__(self, name, gender, *args, **kwargs):  # 为避免多继承报错，使用不定长参数，接受参数\n",
    "        print('Son2的init开始被调用')\n",
    "        self.gender = gender\n",
    "        super().__init__(name, *args, **kwargs)  # 为避免多继承报错，使用不定长参数，接受参数\n",
    "        print('Son2的init结束被调用')\n",
    "\n",
    "class Grandson(Son1, Son2):\n",
    "    def __init__(self, name, age, gender):\n",
    "        print('Grandson的init开始被调用')\n",
    "        # 多继承时，相对于使用类名.__init__方法，要把每个父类全部写一遍\n",
    "        # 而super只用一句话，执行了全部父类的方法，这也是为何多继承需要全部传参的一个原因\n",
    "        # super(Grandson, self).__init__(name, age, gender)\n",
    "        super().__init__(name, age, gender)\n",
    "        print('Grandson的init结束被调用')\n",
    "\n",
    "print(Grandson.__mro__)\n",
    "\n",
    "gs = Grandson('grandson', 12, '男')\n",
    "print('姓名：', gs.name)\n",
    "print('年龄：', gs.age)\n",
    "print('性别：', gs.gender)\n",
    "print(\"******多继承使用super().__init__ 发生的状态******\\n\")"
   ]
  },
  {
   "cell_type": "markdown",
   "metadata": {},
   "source": [
    "+ 以上2个代码执行的结果不同\n",
    "    - 如果2个子类中都继承了父类，当在子类中通过父类名调用时，parent被执行了2次\n",
    "    - 如果2个子类中都继承了父类，当在子类中通过super调用时，parent被执行了1次"
   ]
  },
  {
   "cell_type": "markdown",
   "metadata": {},
   "source": [
    "3. 单继承中super"
   ]
  },
  {
   "cell_type": "code",
   "execution_count": 20,
   "metadata": {},
   "outputs": [
    {
     "name": "stdout",
     "output_type": "stream",
     "text": [
      "******单继承使用super().__init__ 发生的状态******\n",
      "Grandson的init开始被调用\n",
      "Son1的init开始被调用\n",
      "parent的init开始被调用\n",
      "parent的init结束被调用\n",
      "Son1的init结束被调用\n",
      "Grandson的init结束被调用\n",
      "姓名： grandson\n",
      "年龄： 12\n",
      "******单继承使用super().__init__ 发生的状态******\n",
      "\n"
     ]
    }
   ],
   "source": [
    "print(\"******单继承使用super().__init__ 发生的状态******\")\n",
    "class Parent(object):\n",
    "    def __init__(self, name):\n",
    "        print('parent的init开始被调用')\n",
    "        self.name = name\n",
    "        print('parent的init结束被调用')\n",
    "\n",
    "class Son1(Parent):\n",
    "    def __init__(self, name, age):\n",
    "        print('Son1的init开始被调用')\n",
    "        self.age = age\n",
    "        super().__init__(name)  # 单继承不能提供全部参数\n",
    "        print('Son1的init结束被调用')\n",
    "\n",
    "class Grandson(Son1):\n",
    "    def __init__(self, name, age, gender):\n",
    "        print('Grandson的init开始被调用')\n",
    "        super().__init__(name, age)  # 单继承不能提供全部参数\n",
    "        print('Grandson的init结束被调用')\n",
    "\n",
    "gs = Grandson('grandson', 12, '男')\n",
    "print('姓名：', gs.name)\n",
    "print('年龄：', gs.age)\n",
    "#print('性别：', gs.gender)\n",
    "print(\"******单继承使用super().__init__ 发生的状态******\\n\")"
   ]
  },
  {
   "cell_type": "markdown",
   "metadata": {},
   "source": [
    "总结\n",
    "+ `super().__init__`相对于`类名.__init__`，在单继承上用法基本无差\n",
    "+ 但在多继承上有区别，`super`方法能保证每个父类的方法只会执行一次，而使用类名的方法会导致方法被执行多次，具体看前面的输出结果\n",
    "    - 多继承时，使用`super`方法，对父类的传参数，应该是由于python中`super`的算法导致的原因，必须把参数全部传递，否则会报错\n",
    "    - 单继承时，使用`super`方法，则不能全部传递，只能传父类方法所需的参数，否则会报错\n",
    "+ 多继承时，相对于使用`类名.__init__`方法，要把每个父类全部写一遍, 而使用`super`方法，只需写一句话便执行了全部父类的方法，这也是为何多继承需要全部传参的一个原因"
   ]
  },
  {
   "cell_type": "markdown",
   "metadata": {},
   "source": [
    "refer: https://haozhang95.github.io/Python24/5-9/12day/%E5%A4%9A%E7%BB%A7%E6%89%BF%E4%BB%A5%E5%8F%8AMRO%E9%A1%BA%E5%BA%8F.html"
   ]
  }
 ],
 "metadata": {
  "interpreter": {
   "hash": "21564ee016a1497b66ed59b351142cb940e143008b927ddb5402a7b4bc25ee6d"
  },
  "kernelspec": {
   "display_name": "Python 3.10.0 64-bit ('3.10.0': pyenv)",
   "name": "python3"
  },
  "language_info": {
   "codemirror_mode": {
    "name": "ipython",
    "version": 3
   },
   "file_extension": ".py",
   "mimetype": "text/x-python",
   "name": "python",
   "nbconvert_exporter": "python",
   "pygments_lexer": "ipython3",
   "version": "3.10.0"
  },
  "orig_nbformat": 4
 },
 "nbformat": 4,
 "nbformat_minor": 2
}
